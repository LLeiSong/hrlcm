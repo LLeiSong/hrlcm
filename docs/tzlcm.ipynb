{
 "cells": [
  {
   "cell_type": "markdown",
   "metadata": {},
   "source": [
    "## Load libraries"
   ]
  },
  {
   "cell_type": "code",
   "execution_count": 1,
   "metadata": {},
   "outputs": [],
   "source": [
    "import sys\n",
    "sys.path.append('/home/ubuntu/hrlcm/hrlcm')"
   ]
  },
  {
   "cell_type": "code",
   "execution_count": 2,
   "metadata": {},
   "outputs": [],
   "source": [
    "import argparse\n",
    "from augmentation import *\n",
    "from dataset import *\n",
    "from tqdm.auto import tqdm\n",
    "from torch.utils.data import DataLoader\n",
    "from torch.utils.tensorboard import SummaryWriter\n",
    "import pickle as pkl\n",
    "from models.deeplab import DeepLab\n",
    "from models.unet import UNet\n",
    "from train import Trainer\n",
    "from loss import BalancedCrossEntropyLoss\n",
    "from sync_batchnorm import convert_model"
   ]
  },
  {
   "cell_type": "code",
   "execution_count": 3,
   "metadata": {},
   "outputs": [],
   "source": [
    "import os\n",
    "os.chdir('/home/ubuntu/hrlcm')"
   ]
  },
  {
   "cell_type": "markdown",
   "metadata": {},
   "source": [
    "## Get dummy inline arguments "
   ]
  },
  {
   "cell_type": "code",
   "execution_count": 8,
   "metadata": {},
   "outputs": [],
   "source": [
    "# Define a dummy args for testing\n",
    "class args_dummy:\n",
    "    def __init__(self):\n",
    "        self.exp_name = 'unet_norm_sgd_lr_001'\n",
    "        self.data_dir = 'results/north'\n",
    "        self.out_dir = 'results/dl'\n",
    "        self.lowest_score = 10\n",
    "        self.noise_ratio = 0\n",
    "        self.trans_prob = 0.5\n",
    "        self.label_offset = 1\n",
    "        self.rg_rotate = '-90, 90'\n",
    "        self.model = 'unet'\n",
    "        self.train_mode = 'single'\n",
    "        self.out_stride = 8\n",
    "        self.gpu_devices = '0, 1, 2, 3'\n",
    "        self.sync_norm = False\n",
    "        self.max_lr = 0.01\n",
    "        self.base_lr = 0.001\n",
    "        self.clr_gamma = 0.9999\n",
    "        self.save_freq = 10\n",
    "        self.log_feq = 10\n",
    "        self.batch_size = 32\n",
    "        self.epochs = 20\n",
    "        self.optimizer_name = 'Adam'\n",
    "        self.resume = None\n",
    "        self.checkpoint_dir = os.path.join(self.out_dir, self.exp_name, 'checkpoints')\n",
    "        self.logs_dir = os.path.join(self.out_dir, self.exp_name, 'logs')\n",
    "\n",
    "\n",
    "# Initialize dummy args\n",
    "args = args_dummy()"
   ]
  },
  {
   "cell_type": "code",
   "execution_count": 9,
   "metadata": {},
   "outputs": [],
   "source": [
    "# Set directory for saving files\n",
    "if args.exp_name:\n",
    "    args.checkpoint_dir = os.path.join(args.out_dir, args.exp_name, 'checkpoints')\n",
    "    args.logs_dir = os.path.join(args.out_dir, args.exp_name, 'logs')\n",
    "else:\n",
    "    args.checkpoint_dir = os.path.join(args.out_dir, args.model, 'checkpoints')\n",
    "    args.logs_dir = os.path.join(args.out_dir, args.model, 'logs')\n",
    "\n",
    "# Create dirs if necessary\n",
    "if not os.path.isdir(args.checkpoint_dir):\n",
    "    os.makedirs(args.checkpoint_dir)\n",
    "if not os.path.isdir(args.logs_dir):\n",
    "    os.makedirs(args.logs_dir)\n",
    "\n",
    "# Dir for mean and sd pickles\n",
    "args.stats_dir = os.path.join(args.data_dir, 'norm_stats')"
   ]
  },
  {
   "cell_type": "code",
   "execution_count": 10,
   "metadata": {},
   "outputs": [],
   "source": [
    "# Set flags for GPU processing if available\n",
    "if torch.cuda.is_available():\n",
    "    args.use_gpu = True\n",
    "else:\n",
    "    args.use_gpu = False\n",
    "\n",
    "# Load dataset\n",
    "# Define rotate degrees\n",
    "args.rg_rotate = tuple(float(each) for each in args.rg_rotate.split(','))\n",
    "\n",
    "# synchronize transform for train dataset\n",
    "sync_transform = Compose([\n",
    "#     RandomScale(prob=args.trans_prob),\n",
    "    RandomFlip(prob=args.trans_prob),\n",
    "#     RandomCenterRotate(degree=args.rg_rotate,\n",
    "#                        prob=args.trans_prob),\n",
    "    SyncToTensor()\n",
    "])\n",
    "\n",
    "# synchronize transform for validate dataset\n",
    "val_transform = Compose([\n",
    "    SyncToTensor()\n",
    "])\n",
    "\n",
    "# Image transform\n",
    "# Load mean and sd for normalization\n",
    "with open(os.path.join(args.stats_dir,\n",
    "                       \"means.pkl\"), \"rb\") as input_file:\n",
    "    mean = tuple(pkl.load(input_file))\n",
    "\n",
    "with open(os.path.join(args.stats_dir,\n",
    "                       \"stds.pkl\"), \"rb\") as input_file:\n",
    "    std = tuple(pkl.load(input_file))\n",
    "img_transform = ImgNorm(mean, std)"
   ]
  },
  {
   "cell_type": "markdown",
   "metadata": {},
   "source": [
    "## Load datasets "
   ]
  },
  {
   "cell_type": "code",
   "execution_count": 11,
   "metadata": {},
   "outputs": [],
   "source": [
    "# Get train dataset\n",
    "train_dataset = NFSEN1LC(data_dir=args.data_dir,\n",
    "                         usage='train',\n",
    "                         lowest_score=args.lowest_score,\n",
    "                         noise_ratio=args.noise_ratio,\n",
    "                         label_offset=args.label_offset,\n",
    "                         sync_transform=sync_transform,\n",
    "                         img_transform=img_transform,\n",
    "                         label_transform=None)\n",
    "# Put into DataLoader\n",
    "train_loader = DataLoader(dataset=train_dataset,\n",
    "                          batch_size=args.batch_size,\n",
    "                          num_workers=32,\n",
    "                          shuffle=True,\n",
    "                          pin_memory=True,\n",
    "                          drop_last=True)\n",
    "\n",
    "# Get validate dataset\n",
    "validate_dataset = NFSEN1LC(data_dir=args.data_dir,\n",
    "                            usage='validate',\n",
    "                            label_offset=args.label_offset,\n",
    "                            sync_transform=val_transform,\n",
    "                            img_transform=img_transform,\n",
    "                            label_transform=None)\n",
    "# Put into DataLoader\n",
    "validate_loader = DataLoader(dataset=validate_dataset,\n",
    "                             batch_size=args.batch_size,\n",
    "                             num_workers=32,\n",
    "                             shuffle=False,\n",
    "                             pin_memory=True,\n",
    "                             drop_last=False)"
   ]
  },
  {
   "cell_type": "markdown",
   "metadata": {},
   "source": [
    "## Set model "
   ]
  },
  {
   "cell_type": "code",
   "execution_count": 12,
   "metadata": {},
   "outputs": [],
   "source": [
    "# Set up network\n",
    "args.n_classes = train_dataset.n_classes\n",
    "args.n_channels = train_dataset.n_channels\n",
    "if args.model == \"deeplab\":\n",
    "    model = DeepLab(num_classes=args.n_classes,\n",
    "                    backbone='resnet',\n",
    "                    pretrained_backbone=False,\n",
    "                    output_stride=args.out_stride,\n",
    "                    sync_bn=False,\n",
    "                    freeze_bn=False,\n",
    "                    n_in=args.n_channels)\n",
    "else:\n",
    "    model = UNet(n_classes=args.n_classes,\n",
    "                 n_channels=args.n_channels)\n",
    "\n",
    "args.use_gpu = torch.cuda.is_available()\n",
    "    # Get devices\n",
    "if args.gpu_devices:\n",
    "    args.gpu_devices = [int(each) for each in args.gpu_devices.split(',')]\n",
    "\n",
    "# Set model\n",
    "if args.use_gpu:\n",
    "    if args.gpu_devices:\n",
    "        torch.cuda.set_device(args.gpu_devices[0])\n",
    "        model = torch.nn.DataParallel(model, device_ids=args.gpu_devices)\n",
    "        if args.sync_norm:\n",
    "            model = convert_model(model)\n",
    "    model = model.cuda()\n",
    "\n",
    "# Define loss function\n",
    "loss_fn = BalancedCrossEntropyLoss()\n",
    "\n",
    "# Define optimizer\n",
    "# if args.optimizer_name == 'Adadelta':\n",
    "#     optimizer = torch.optim.Adadelta(model.parameters(),\n",
    "#                                      lr=args.max_lr)\n",
    "# elif args.optimizer_name == 'Adam':\n",
    "#     optimizer = torch.optim.Adam(model.parameters(),\n",
    "#                                  lr=args.max_lr,\n",
    "#                                  amsgrad=True)\n",
    "# elif args.optimizer_name == 'AdamW':\n",
    "#     optimizer = torch.optim.AdamW(model.parameters(),\n",
    "#                                  lr=args.max_lr,\n",
    "#                                  amsgrad=True)\n",
    "# else:\n",
    "#     print('Not supported optimizer, use Adam instead.')\n",
    "#     optimizer = torch.optim.Adam(model.parameters(),\n",
    "#                                  lr=args.max_lr,\n",
    "#                                  amsgrad=True)\n",
    "optimizer = torch.optim.SGD(model.parameters(), lr=args.max_lr, momentum=0.99)\n",
    "\n",
    "# Set up tensorboard logging\n",
    "writer = SummaryWriter(log_dir=args.logs_dir)\n",
    "\n",
    "# Save config\n",
    "pkl.dump(args, open(os.path.join(args.checkpoint_dir, \"args.pkl\"), \"wb\"))"
   ]
  },
  {
   "cell_type": "markdown",
   "metadata": {},
   "source": [
    "## Run epochs "
   ]
  },
  {
   "cell_type": "markdown",
   "metadata": {},
   "source": [
    "### Constant learning rate "
   ]
  },
  {
   "cell_type": "code",
   "execution_count": null,
   "metadata": {},
   "outputs": [
    {
     "data": {
      "application/vnd.jupyter.widget-view+json": {
       "model_id": "eb140eed66d34489afeb1e9d94ad4075",
       "version_major": 2,
       "version_minor": 0
      },
      "text/plain": [
       "HBox(children=(FloatProgress(value=0.0, description='[Epoch]', max=20.0, style=ProgressStyle(description_width…"
      ]
     },
     "metadata": {},
     "output_type": "display_data"
    },
    {
     "data": {
      "application/vnd.jupyter.widget-view+json": {
       "model_id": "8557708669014297a3b5b9b00eaa3cb5",
       "version_major": 2,
       "version_minor": 0
      },
      "text/plain": [
       "HBox(children=(FloatProgress(value=0.0, description='[Train]', max=114.0, style=ProgressStyle(description_widt…"
      ]
     },
     "metadata": {},
     "output_type": "display_data"
    },
    {
     "name": "stdout",
     "output_type": "stream",
     "text": [
      "\n"
     ]
    },
    {
     "data": {
      "application/vnd.jupyter.widget-view+json": {
       "model_id": "9aab17a3f2cc4d929894af9b29302793",
       "version_major": 2,
       "version_minor": 0
      },
      "text/plain": [
       "HBox(children=(FloatProgress(value=0.0, description='[Val]', max=30.0, style=ProgressStyle(description_width='…"
      ]
     },
     "metadata": {},
     "output_type": "display_data"
    },
    {
     "name": "stdout",
     "output_type": "stream",
     "text": [
      "\n"
     ]
    },
    {
     "data": {
      "application/vnd.jupyter.widget-view+json": {
       "model_id": "d589c3a7f77d45cdaa42777d80b0171a",
       "version_major": 2,
       "version_minor": 0
      },
      "text/plain": [
       "HBox(children=(FloatProgress(value=0.0, description='[Train]', max=114.0, style=ProgressStyle(description_widt…"
      ]
     },
     "metadata": {},
     "output_type": "display_data"
    },
    {
     "name": "stdout",
     "output_type": "stream",
     "text": [
      "\n"
     ]
    },
    {
     "data": {
      "application/vnd.jupyter.widget-view+json": {
       "model_id": "18add69866f9466ea5b6ce2436638c1d",
       "version_major": 2,
       "version_minor": 0
      },
      "text/plain": [
       "HBox(children=(FloatProgress(value=0.0, description='[Val]', max=30.0, style=ProgressStyle(description_width='…"
      ]
     },
     "metadata": {},
     "output_type": "display_data"
    },
    {
     "name": "stdout",
     "output_type": "stream",
     "text": [
      "\n"
     ]
    },
    {
     "data": {
      "application/vnd.jupyter.widget-view+json": {
       "model_id": "dcd4bdc5e27f4967a3ebb62c27e15388",
       "version_major": 2,
       "version_minor": 0
      },
      "text/plain": [
       "HBox(children=(FloatProgress(value=0.0, description='[Train]', max=114.0, style=ProgressStyle(description_widt…"
      ]
     },
     "metadata": {},
     "output_type": "display_data"
    },
    {
     "name": "stdout",
     "output_type": "stream",
     "text": [
      "\n"
     ]
    },
    {
     "data": {
      "application/vnd.jupyter.widget-view+json": {
       "model_id": "cc8c04db9ea7426ba0fdd582fdea245f",
       "version_major": 2,
       "version_minor": 0
      },
      "text/plain": [
       "HBox(children=(FloatProgress(value=0.0, description='[Val]', max=30.0, style=ProgressStyle(description_width='…"
      ]
     },
     "metadata": {},
     "output_type": "display_data"
    },
    {
     "name": "stdout",
     "output_type": "stream",
     "text": [
      "\n"
     ]
    },
    {
     "data": {
      "application/vnd.jupyter.widget-view+json": {
       "model_id": "de072a5bdd4f495eadde65690576cd6c",
       "version_major": 2,
       "version_minor": 0
      },
      "text/plain": [
       "HBox(children=(FloatProgress(value=0.0, description='[Train]', max=114.0, style=ProgressStyle(description_widt…"
      ]
     },
     "metadata": {},
     "output_type": "display_data"
    },
    {
     "name": "stdout",
     "output_type": "stream",
     "text": [
      "\n"
     ]
    },
    {
     "data": {
      "application/vnd.jupyter.widget-view+json": {
       "model_id": "192103c34d70475a9b05bfc83fb2a970",
       "version_major": 2,
       "version_minor": 0
      },
      "text/plain": [
       "HBox(children=(FloatProgress(value=0.0, description='[Val]', max=30.0, style=ProgressStyle(description_width='…"
      ]
     },
     "metadata": {},
     "output_type": "display_data"
    },
    {
     "name": "stdout",
     "output_type": "stream",
     "text": [
      "\n"
     ]
    },
    {
     "data": {
      "application/vnd.jupyter.widget-view+json": {
       "model_id": "cda0a7423c3d4fe295c02bc54359db24",
       "version_major": 2,
       "version_minor": 0
      },
      "text/plain": [
       "HBox(children=(FloatProgress(value=0.0, description='[Train]', max=114.0, style=ProgressStyle(description_widt…"
      ]
     },
     "metadata": {},
     "output_type": "display_data"
    },
    {
     "name": "stdout",
     "output_type": "stream",
     "text": [
      "\n"
     ]
    },
    {
     "data": {
      "application/vnd.jupyter.widget-view+json": {
       "model_id": "39034bf4865247089165afb8ff42dde3",
       "version_major": 2,
       "version_minor": 0
      },
      "text/plain": [
       "HBox(children=(FloatProgress(value=0.0, description='[Val]', max=30.0, style=ProgressStyle(description_width='…"
      ]
     },
     "metadata": {},
     "output_type": "display_data"
    },
    {
     "name": "stdout",
     "output_type": "stream",
     "text": [
      "\n"
     ]
    },
    {
     "data": {
      "application/vnd.jupyter.widget-view+json": {
       "model_id": "d0dbfd25fdf14d528c80709905896248",
       "version_major": 2,
       "version_minor": 0
      },
      "text/plain": [
       "HBox(children=(FloatProgress(value=0.0, description='[Train]', max=114.0, style=ProgressStyle(description_widt…"
      ]
     },
     "metadata": {},
     "output_type": "display_data"
    },
    {
     "name": "stdout",
     "output_type": "stream",
     "text": [
      "\n"
     ]
    },
    {
     "data": {
      "application/vnd.jupyter.widget-view+json": {
       "model_id": "2742007b8add469e8e9b48581a3ef8b5",
       "version_major": 2,
       "version_minor": 0
      },
      "text/plain": [
       "HBox(children=(FloatProgress(value=0.0, description='[Val]', max=30.0, style=ProgressStyle(description_width='…"
      ]
     },
     "metadata": {},
     "output_type": "display_data"
    },
    {
     "name": "stdout",
     "output_type": "stream",
     "text": [
      "\n"
     ]
    },
    {
     "data": {
      "application/vnd.jupyter.widget-view+json": {
       "model_id": "ce5d3277d4b446ab8d70c64ea69c6c70",
       "version_major": 2,
       "version_minor": 0
      },
      "text/plain": [
       "HBox(children=(FloatProgress(value=0.0, description='[Train]', max=114.0, style=ProgressStyle(description_widt…"
      ]
     },
     "metadata": {},
     "output_type": "display_data"
    },
    {
     "name": "stdout",
     "output_type": "stream",
     "text": [
      "\n"
     ]
    },
    {
     "data": {
      "application/vnd.jupyter.widget-view+json": {
       "model_id": "c10fe9db18774a31802fb0ed314c52fe",
       "version_major": 2,
       "version_minor": 0
      },
      "text/plain": [
       "HBox(children=(FloatProgress(value=0.0, description='[Val]', max=30.0, style=ProgressStyle(description_width='…"
      ]
     },
     "metadata": {},
     "output_type": "display_data"
    },
    {
     "name": "stdout",
     "output_type": "stream",
     "text": [
      "\n"
     ]
    },
    {
     "data": {
      "application/vnd.jupyter.widget-view+json": {
       "model_id": "f267edc867c54072ac0b72195df7ca91",
       "version_major": 2,
       "version_minor": 0
      },
      "text/plain": [
       "HBox(children=(FloatProgress(value=0.0, description='[Train]', max=114.0, style=ProgressStyle(description_widt…"
      ]
     },
     "metadata": {},
     "output_type": "display_data"
    },
    {
     "name": "stdout",
     "output_type": "stream",
     "text": [
      "\n"
     ]
    },
    {
     "data": {
      "application/vnd.jupyter.widget-view+json": {
       "model_id": "655f6db40db244389e34ff46a382fb9e",
       "version_major": 2,
       "version_minor": 0
      },
      "text/plain": [
       "HBox(children=(FloatProgress(value=0.0, description='[Val]', max=30.0, style=ProgressStyle(description_width='…"
      ]
     },
     "metadata": {},
     "output_type": "display_data"
    },
    {
     "name": "stdout",
     "output_type": "stream",
     "text": [
      "\n"
     ]
    },
    {
     "data": {
      "application/vnd.jupyter.widget-view+json": {
       "model_id": "65a3bb72ccf0496cbfb2f43da4505022",
       "version_major": 2,
       "version_minor": 0
      },
      "text/plain": [
       "HBox(children=(FloatProgress(value=0.0, description='[Train]', max=114.0, style=ProgressStyle(description_widt…"
      ]
     },
     "metadata": {},
     "output_type": "display_data"
    },
    {
     "name": "stdout",
     "output_type": "stream",
     "text": [
      "\n"
     ]
    },
    {
     "data": {
      "application/vnd.jupyter.widget-view+json": {
       "model_id": "32ae045c61254eb9b82a56a614f39273",
       "version_major": 2,
       "version_minor": 0
      },
      "text/plain": [
       "HBox(children=(FloatProgress(value=0.0, description='[Val]', max=30.0, style=ProgressStyle(description_width='…"
      ]
     },
     "metadata": {},
     "output_type": "display_data"
    },
    {
     "name": "stdout",
     "output_type": "stream",
     "text": [
      "\n"
     ]
    },
    {
     "data": {
      "application/vnd.jupyter.widget-view+json": {
       "model_id": "ac314e81147e4178bb6555b5743f2e6c",
       "version_major": 2,
       "version_minor": 0
      },
      "text/plain": [
       "HBox(children=(FloatProgress(value=0.0, description='[Train]', max=114.0, style=ProgressStyle(description_widt…"
      ]
     },
     "metadata": {},
     "output_type": "display_data"
    },
    {
     "name": "stdout",
     "output_type": "stream",
     "text": [
      "\n"
     ]
    },
    {
     "data": {
      "application/vnd.jupyter.widget-view+json": {
       "model_id": "f103dd46a6a84277abc41b7477b4e570",
       "version_major": 2,
       "version_minor": 0
      },
      "text/plain": [
       "HBox(children=(FloatProgress(value=0.0, description='[Val]', max=30.0, style=ProgressStyle(description_width='…"
      ]
     },
     "metadata": {},
     "output_type": "display_data"
    },
    {
     "name": "stdout",
     "output_type": "stream",
     "text": [
      "\n"
     ]
    },
    {
     "data": {
      "application/vnd.jupyter.widget-view+json": {
       "model_id": "10eb9269a8174660adf55d59bb8b6e27",
       "version_major": 2,
       "version_minor": 0
      },
      "text/plain": [
       "HBox(children=(FloatProgress(value=0.0, description='[Train]', max=114.0, style=ProgressStyle(description_widt…"
      ]
     },
     "metadata": {},
     "output_type": "display_data"
    },
    {
     "name": "stdout",
     "output_type": "stream",
     "text": [
      "\n"
     ]
    },
    {
     "data": {
      "application/vnd.jupyter.widget-view+json": {
       "model_id": "6eed3baf376f48e4bc2d147ef710d9fc",
       "version_major": 2,
       "version_minor": 0
      },
      "text/plain": [
       "HBox(children=(FloatProgress(value=0.0, description='[Val]', max=30.0, style=ProgressStyle(description_width='…"
      ]
     },
     "metadata": {},
     "output_type": "display_data"
    },
    {
     "name": "stdout",
     "output_type": "stream",
     "text": [
      "\n"
     ]
    },
    {
     "data": {
      "application/vnd.jupyter.widget-view+json": {
       "model_id": "7ebca6b6e0174f97825435f1f8c5a433",
       "version_major": 2,
       "version_minor": 0
      },
      "text/plain": [
       "HBox(children=(FloatProgress(value=0.0, description='[Train]', max=114.0, style=ProgressStyle(description_widt…"
      ]
     },
     "metadata": {},
     "output_type": "display_data"
    },
    {
     "name": "stdout",
     "output_type": "stream",
     "text": [
      "\n"
     ]
    },
    {
     "data": {
      "application/vnd.jupyter.widget-view+json": {
       "model_id": "d1236bd8aa49499584f4ea92acecc77b",
       "version_major": 2,
       "version_minor": 0
      },
      "text/plain": [
       "HBox(children=(FloatProgress(value=0.0, description='[Val]', max=30.0, style=ProgressStyle(description_width='…"
      ]
     },
     "metadata": {},
     "output_type": "display_data"
    },
    {
     "name": "stdout",
     "output_type": "stream",
     "text": [
      "\n"
     ]
    },
    {
     "data": {
      "application/vnd.jupyter.widget-view+json": {
       "model_id": "8db40cdf22e14931982406060e98cf87",
       "version_major": 2,
       "version_minor": 0
      },
      "text/plain": [
       "HBox(children=(FloatProgress(value=0.0, description='[Train]', max=114.0, style=ProgressStyle(description_widt…"
      ]
     },
     "metadata": {},
     "output_type": "display_data"
    },
    {
     "name": "stdout",
     "output_type": "stream",
     "text": [
      "\n"
     ]
    },
    {
     "data": {
      "application/vnd.jupyter.widget-view+json": {
       "model_id": "802a164825954f2fbc768318e8959cce",
       "version_major": 2,
       "version_minor": 0
      },
      "text/plain": [
       "HBox(children=(FloatProgress(value=0.0, description='[Val]', max=30.0, style=ProgressStyle(description_width='…"
      ]
     },
     "metadata": {},
     "output_type": "display_data"
    },
    {
     "name": "stdout",
     "output_type": "stream",
     "text": [
      "\n"
     ]
    },
    {
     "data": {
      "application/vnd.jupyter.widget-view+json": {
       "model_id": "38ce7ea524bc44e2bc715e447bc2cb59",
       "version_major": 2,
       "version_minor": 0
      },
      "text/plain": [
       "HBox(children=(FloatProgress(value=0.0, description='[Train]', max=114.0, style=ProgressStyle(description_widt…"
      ]
     },
     "metadata": {},
     "output_type": "display_data"
    },
    {
     "name": "stdout",
     "output_type": "stream",
     "text": [
      "\n"
     ]
    },
    {
     "data": {
      "application/vnd.jupyter.widget-view+json": {
       "model_id": "c5563d336cfc42ef95dbbc6a4985f40b",
       "version_major": 2,
       "version_minor": 0
      },
      "text/plain": [
       "HBox(children=(FloatProgress(value=0.0, description='[Val]', max=30.0, style=ProgressStyle(description_width='…"
      ]
     },
     "metadata": {},
     "output_type": "display_data"
    },
    {
     "name": "stdout",
     "output_type": "stream",
     "text": [
      "\n"
     ]
    },
    {
     "data": {
      "application/vnd.jupyter.widget-view+json": {
       "model_id": "7d0048ba221d4838998d5341c9635043",
       "version_major": 2,
       "version_minor": 0
      },
      "text/plain": [
       "HBox(children=(FloatProgress(value=0.0, description='[Train]', max=114.0, style=ProgressStyle(description_widt…"
      ]
     },
     "metadata": {},
     "output_type": "display_data"
    },
    {
     "name": "stdout",
     "output_type": "stream",
     "text": [
      "\n"
     ]
    },
    {
     "data": {
      "application/vnd.jupyter.widget-view+json": {
       "model_id": "cf0103da004a4c32ae4a56480d38c2e9",
       "version_major": 2,
       "version_minor": 0
      },
      "text/plain": [
       "HBox(children=(FloatProgress(value=0.0, description='[Val]', max=30.0, style=ProgressStyle(description_width='…"
      ]
     },
     "metadata": {},
     "output_type": "display_data"
    },
    {
     "name": "stdout",
     "output_type": "stream",
     "text": [
      "\n"
     ]
    },
    {
     "data": {
      "application/vnd.jupyter.widget-view+json": {
       "model_id": "f936d217bd3d42f98f5dc6d20259b201",
       "version_major": 2,
       "version_minor": 0
      },
      "text/plain": [
       "HBox(children=(FloatProgress(value=0.0, description='[Train]', max=114.0, style=ProgressStyle(description_widt…"
      ]
     },
     "metadata": {},
     "output_type": "display_data"
    },
    {
     "name": "stdout",
     "output_type": "stream",
     "text": [
      "\n"
     ]
    },
    {
     "data": {
      "application/vnd.jupyter.widget-view+json": {
       "model_id": "44371e05b3154b64a0f3072a486a7381",
       "version_major": 2,
       "version_minor": 0
      },
      "text/plain": [
       "HBox(children=(FloatProgress(value=0.0, description='[Val]', max=30.0, style=ProgressStyle(description_width='…"
      ]
     },
     "metadata": {},
     "output_type": "display_data"
    },
    {
     "name": "stdout",
     "output_type": "stream",
     "text": [
      "\n"
     ]
    },
    {
     "data": {
      "application/vnd.jupyter.widget-view+json": {
       "model_id": "446f7eb271c34a67a30183d5d25d7d45",
       "version_major": 2,
       "version_minor": 0
      },
      "text/plain": [
       "HBox(children=(FloatProgress(value=0.0, description='[Train]', max=114.0, style=ProgressStyle(description_widt…"
      ]
     },
     "metadata": {},
     "output_type": "display_data"
    }
   ],
   "source": [
    "# With constant learning rate\n",
    "step = 0\n",
    "trainer = Trainer(args)\n",
    "pbar = tqdm(total=args.epochs, desc=\"[Epoch]\")\n",
    "for epoch in range(args.epochs):\n",
    "    # Run training for one epoch\n",
    "    model, step = trainer.train(model, train_loader, loss_fn,\n",
    "                                optimizer, writer, step=step)\n",
    "    # Run validation\n",
    "    trainer.validate(model, validate_loader, step, loss_fn, writer)\n",
    "\n",
    "    # Save checkpoint\n",
    "    if epoch % args.save_freq == 0:\n",
    "        trainer.export_model(model, optimizer=optimizer, step=step)\n",
    "\n",
    "    # Update pbar\n",
    "    pbar.set_description(\"[Epoch] lr: {:.4f}\".format(\n",
    "                round(optimizer.param_groups[0][\"lr\"], 4)))\n",
    "    pbar.update()\n",
    "\n",
    "# Export final set of weights\n",
    "trainer.export_model(model, optimizer, name=\"final\")\n",
    "\n",
    "# Close pbar\n",
    "pbar.close()"
   ]
  },
  {
   "cell_type": "markdown",
   "metadata": {},
   "source": [
    "### With learning rate scheduler "
   ]
  },
  {
   "cell_type": "markdown",
   "metadata": {},
   "source": [
    "#### Single scheduler "
   ]
  },
  {
   "cell_type": "code",
   "execution_count": null,
   "metadata": {},
   "outputs": [],
   "source": [
    "scheduler = torch.optim.lr_scheduler.StepLR(optimizer, step_size=10, gamma=0.1)\n",
    "step = 0\n",
    "trainer = Trainer(args)\n",
    "pbar = tqdm(total=args.epochs, desc=\"[Epoch]\")\n",
    "for epoch in range(args.epochs):\n",
    "    # Run training for one epoch\n",
    "    model, step = trainer.train(model, train_loader, loss_fn,\n",
    "                                optimizer, writer, step=step)\n",
    "    # Run validation\n",
    "    trainer.validate(model, validate_loader, step, loss_fn, writer)\n",
    "    \n",
    "    # Update learning rate\n",
    "    scheduler.step()\n",
    "\n",
    "    # Save checkpoint\n",
    "    if epoch % args.save_freq == 0:\n",
    "        trainer.export_model(model, optimizer=optimizer, step=step)\n",
    "\n",
    "    # Update pbar\n",
    "    pbar.set_description(\"[Epoch] lr: {:.4f}\".format(\n",
    "                round(optimizer.param_groups[0][\"lr\"], 4)))\n",
    "    pbar.update()\n",
    "\n",
    "# Export final set of weights\n",
    "trainer.export_model(model, optimizer, name=\"final\")\n",
    "\n",
    "# Close pbar\n",
    "pbar.close()"
   ]
  },
  {
   "cell_type": "markdown",
   "metadata": {},
   "source": [
    "#### Composed scheduler "
   ]
  },
  {
   "cell_type": "code",
   "execution_count": null,
   "metadata": {},
   "outputs": [],
   "source": [
    "# Visualize learning rate curve\n",
    "import matplotlib.pyplot as plt\n",
    "lr_scheduler_1 = torch.optim.lr_scheduler.CosineAnnealingLR(optimizer, T_max=20, eta_min=0.001)\n",
    "lr_scheduler_2 = torch.optim.lr_scheduler.CyclicLR(optimizer, base_lr=0.001, max_lr=0.05, \n",
    "                                                   step_size_up=1, step_size_down=3,\n",
    "                                                   gamma=0.96, cycle_momentum=False,\n",
    "                                                   mode='exp_range')\n",
    "\n",
    "lrs = []\n",
    "\n",
    "for i in range(100):\n",
    "    optimizer.step()\n",
    "    if i <= lr_scheduler_1.T_max:\n",
    "        lr_scheduler_1.step()\n",
    "    else:\n",
    "        lr_scheduler_2.step()\n",
    "    lrs.append(\n",
    "        optimizer.param_groups[0][\"lr\"]\n",
    "    )\n",
    "\n",
    "plt.plot(lrs)"
   ]
  },
  {
   "cell_type": "code",
   "execution_count": null,
   "metadata": {},
   "outputs": [],
   "source": [
    "lr_scheduler_1 = torch.optim.lr_scheduler.CosineAnnealingLR(optimizer, T_max=20, eta_min=0.001)\n",
    "lr_scheduler_2 = torch.optim.lr_scheduler.CyclicLR(optimizer, base_lr=0.001, max_lr=0.05, \n",
    "                                                   step_size_up=1, step_size_down=3,\n",
    "                                                   gamma=0.96, cycle_momentum=False,\n",
    "                                                   mode='exp_range')\n",
    "step = 0\n",
    "trainer = Trainer(args)\n",
    "pbar = tqdm(total=args.epochs, desc=\"[Epoch]\")\n",
    "for epoch in range(args.epochs):\n",
    "    # Run training for one epoch\n",
    "    model, step = trainer.train(model, train_loader, loss_fn,\n",
    "                                optimizer, writer, step=step)\n",
    "    # Run validation\n",
    "    trainer.validate(model, validate_loader, step, loss_fn, writer)\n",
    "    \n",
    "    # Update learning rate\n",
    "    if epoch <= lr_scheduler_1.T_max:\n",
    "        lr_scheduler_1.step()\n",
    "    else:\n",
    "        lr_scheduler_2.step()\n",
    "\n",
    "    # Save checkpoint\n",
    "    if epoch % args.save_freq == 0:\n",
    "        trainer.export_model(model, optimizer=optimizer, step=step)\n",
    "\n",
    "    # Update pbar\n",
    "    pbar.set_description(\"[Epoch] lr: {:.4f}\".format(\n",
    "                round(optimizer.param_groups[0][\"lr\"], 4)))\n",
    "    pbar.update()\n",
    "\n",
    "# Export final set of weights\n",
    "trainer.export_model(model, optimizer, name=\"final\")\n",
    "\n",
    "# Close pbar\n",
    "pbar.close()"
   ]
  },
  {
   "cell_type": "markdown",
   "metadata": {},
   "source": [
    "## Evaluate "
   ]
  },
  {
   "cell_type": "code",
   "execution_count": null,
   "metadata": {},
   "outputs": [],
   "source": []
  },
  {
   "cell_type": "markdown",
   "metadata": {},
   "source": [
    "## Do one prediction "
   ]
  },
  {
   "cell_type": "code",
   "execution_count": null,
   "metadata": {},
   "outputs": [],
   "source": []
  }
 ],
 "metadata": {
  "kernelspec": {
   "display_name": "Python [conda env:pytorch_latest_p36]",
   "language": "python",
   "name": "conda-env-pytorch_latest_p36-py"
  },
  "language_info": {
   "codemirror_mode": {
    "name": "ipython",
    "version": 3
   },
   "file_extension": ".py",
   "mimetype": "text/x-python",
   "name": "python",
   "nbconvert_exporter": "python",
   "pygments_lexer": "ipython3",
   "version": "3.6.10"
  }
 },
 "nbformat": 4,
 "nbformat_minor": 4
}
